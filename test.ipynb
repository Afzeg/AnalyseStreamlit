{
 "cells": [
  {
   "attachments": {},
   "cell_type": "markdown",
   "metadata": {},
   "source": [
    "expression regulière:\n",
    "\n",
    "\\d = any number\n",
    "\\D = anything but a number\n",
    "\\s = space\n",
    "\\S = anything but a space\n",
    "\\w = any letter\n",
    "\\W = anything but a letter\n",
    ". = any character, except for a new line\n",
    "\\b = space around whole words\n",
    "\\. = period. must use a backslash, because ‘ . ‘ normally means any character.\n",
    "\n",
    "+ = match 1 or more\n",
    "? = match 0 or 1 repetitions.\n",
    "* = match 0 or MORE repetitions\n",
    "$ = matches at the end of string\n",
    "^ = matches start of a string\n",
    "| = matches either/or. Example x|y = will match either x or y\n",
    "[] = A set of characters in which we define range, or \"variance\"\n",
    "{x} = expect to see this amount of the preceding code.\n",
    "{x,y} = expect to see this x-y amounts of the precedng code"
   ]
  },
  {
   "cell_type": "code",
   "execution_count": 1,
   "metadata": {},
   "outputs": [
    {
     "data": {
      "text/plain": [
       "'932a8e294c3c14a0f47ad4df4890bf25b034038ba88fe9fddf4b727076cc12ef'"
      ]
     },
     "execution_count": 1,
     "metadata": {},
     "output_type": "execute_result"
    }
   ],
   "source": [
    "from hashlib import sha256\n",
    "\n",
    "mdp = \"Afzegclif98!!\"\n",
    "sha256(str(mdp).encode(encoding=\"utf-32\")).hexdigest()"
   ]
  },
  {
   "cell_type": "code",
   "execution_count": null,
   "metadata": {},
   "outputs": [],
   "source": [
    "#bouton pour naviguer avant navigation bar\n",
    "\"\"\"\n",
    "col1, col2, col3, col4, col5, col6 = st.columns(6)\n",
    "\n",
    "\n",
    "with col1:\n",
    "    if st.button(\"Accueil\"):\n",
    "        redirect(\"/home\")\n",
    "\n",
    "with col2:\n",
    "    if st.button(\"Dataset\"):\n",
    "        redirect(\"/dataset\")\n",
    "\n",
    "with col3:\n",
    "    if st.button(\"Analyses\"):\n",
    "        redirect(\"/analysis\")\n",
    "\n",
    "with col4:\n",
    "    if st.button(\"Conclusion\"):\n",
    "        redirect(\"/conclusion\")\n",
    "\n",
    "if open_access():\n",
    "    with col5:\n",
    "        if st.button(\"Connexion\"):\n",
    "            redirect(\"/login\", reload=True)\n",
    "\n",
    "if not open_access():\n",
    "    with col6:\n",
    "        if st.button(\"Quitter\"):\n",
    "            logout()\n",
    "            redirect(\"/login\", reload=True)\n",
    "\"\"\""
   ]
  }
 ],
 "metadata": {
  "kernelspec": {
   "display_name": "Python 3",
   "language": "python",
   "name": "python3"
  },
  "language_info": {
   "codemirror_mode": {
    "name": "ipython",
    "version": 3
   },
   "file_extension": ".py",
   "mimetype": "text/x-python",
   "name": "python",
   "nbconvert_exporter": "python",
   "pygments_lexer": "ipython3",
   "version": "3.11.1"
  },
  "orig_nbformat": 4,
  "vscode": {
   "interpreter": {
    "hash": "bef2194dafa3633d6e7e4b55d1996bf17d4da4d2f67aafb3d2a7d3d60c9c41fc"
   }
  }
 },
 "nbformat": 4,
 "nbformat_minor": 2
}
